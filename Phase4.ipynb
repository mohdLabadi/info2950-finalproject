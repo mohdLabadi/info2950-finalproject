{
 "cells": [
  {
   "cell_type": "markdown",
   "metadata": {
    "id": "VBgEOC2-5-po"
   },
   "source": [
    "\n",
    "# INFO 2950 Final Project - Phase IV\n",
    "\n"
   ]
  },
  {
   "cell_type": "markdown",
   "metadata": {},
   "source": [
    "## Outline:\n",
    "\n",
    "1. Introduction\n",
    "2. Data Cleaning and prepping\n",
    "3. Analysis\n",
    "4. conclusion"
   ]
  },
  {
   "cell_type": "markdown",
   "metadata": {},
   "source": [
    "Rubric items: \n",
    "- *Clearly states complex research question(s) that leads to significant potential for interesting analyses.*\n",
    "- *Provides background information and context*\n",
    "- *Introduces key terms and data sources*\n",
    "- *Outlines research question(s)*\n",
    "- *Ends with a brief summary of findings*\n",
    "- *Clearly describes why the setting is important and what is at stake in the results of the analysis.*\n",
    "- *Citations to related literature are included that might clarify why the research questions are important, or introduce related research.*\n",
    "- *Even if the reader doesn’t know much about the subject, they know why they care about the results of your analysis.*\n"
   ]
  },
  {
   "cell_type": "markdown",
   "metadata": {
    "id": "xAZmDsLA6Nen"
   },
   "source": [
    "## Introduction:\n",
    "\n",
    "Sometimes, a good movie becomes successful due to unusual factors that people resonated with. For some movie makers focusing on the story telling and the actual movie is as important as these \"unusual factors\" and for others these are just a mere choice that wouldnt matter in the movie market. Some of these factors include the expected earnings of a movie, a movie's length (to avoid losing the audience’s attention), advertising strategies. Additionally, the title of the movie, especially if the movie is not based on a well-known book or franchise. While individual preferences may vary, it’s interesting to analyze whether audiences have preferences on factors like these that influence their movie choices and the factors that contribute to their movie selections. \n",
    "\n",
    "This research project will primarily focus on two key aspects of movies: runtime and title length, and how these factors might influence a movie's perception and reception. The project will utilize one of the largest publicly available movie datasets, the IMDb public non-commercial dataset, to explore the relationship between these factors.\n",
    "\n",
    "By analyzing these patterns, this study aims to uncover whether two selected factors of a movie: duration and title length should be considered in the process of movie making and adverstising. Specifically, we seek to understand how runtime and title length shape the way films are perceived by audiences. This is important as some movie makers might decide to give this side more light to bring their movies and stories to the world. Our research will explore the following central question: \n",
    "\n",
    "## Are movies from different genres in the IMDb dataset more influenced by longer runtimes or longer movie titles? \n",
    "\n",
    "We will also examine secondary questions related to how the public interacts with these movies, such as: \n",
    "\n",
    "#### Do audiences tend to rate movies with longer titles or longer runtimes more favorably? Additionally, how do these patterns shift when considering movies from different genres or movies that belong to multiple genres? And even more francly does the length of a movie title matter for audiences.\n",
    "\n",
    "The setting of this analysis is significant as it offers insights into the subtle ways in which film characteristics align with genre expectations and audience engagement. Understanding how these factors influence movie reception can have practical implications for movie marketing, production, and audience targeting. Citations to related literature will clarify the importance of these research questions and provide context for similar studies in film and media research. Even if the reader is not familiar with the intricacies of movie production, the findings will highlight why these elements matter in the context of film analysis and audience engagement. \n",
    "\n",
    "We will present key terms and introduce the dataset in the next section. However, we would love to present a very short summary of our findings although we also go in depth to explain everything in our conclusion section at the end of this notebook:\n",
    "\n",
    "In this study we found 2 things: 1. 2. NEEDS COMPLETION\n",
    "\n"
   ]
  },
  {
   "cell_type": "markdown",
   "metadata": {},
   "source": [
    "Rubric Items:\n",
    "\n",
    "- *Simple description of all aspects of the dataset with some consideration for the sources.*\n",
    "- *Includes a brief discussion of data reliability, but it may not be complete.*\n",
    "- *Includes links to the original data source. Answers all relevant questions from Data Description in Phase 2 Rubric.*\n",
    "- *Cleaned data is imported from a file generated by a separate data cleaning notebook. A GitHub link is provided to this notebook.*\n",
    "- *In the notebook, the data cleaning steps are clear and presented with a narrative structure (markdown cells) explains the overarching goal and each of the individual cleaning steps.*\n",
    "- *The cleaned dataset is sufficient for all analyses in subsequent sections and requires no further cleaning.*\n",
    "- *Credits and values data sources, and thoughtfully addresses whether the datasets are trustworthy and reliable as per Discussion 7.*\n",
    "- *Includes a comprehensive and clear discussion of different aspects of the data, so the reader understands where the data comes from,*\n",
    "- *why it’s useful for the analysis*\n",
    "- *and any relevant limitations/harms/potential gaps. How could they affect the meaning of the results.*\n",
    "- *The description is detailed enough that another data scientist could easily find the original data and replicate the analysis.*\n",
    "- *Data cleaning steps are clear and well thought out.*\n",
    "- **Questions to answer:**\n",
    "    - *What are the observations (rows) and the attributes (columns)?*\n",
    "    - *Why was this dataset created?*\n",
    "    - *Who funded the creation of the dataset?*\n",
    "    - *What processes might have influenced what data was observed and recorded and what was not?*\n",
    "    - *What preprocessing was done, and how did the data come to be in the form that you are using?*\n",
    "    - *If people are involved, were they aware of the data collection and if so, what purpose did they expect the data to be used for?*\n",
    "    - *Where can your raw source data be found, if applicable? Provide a link to the raw data (hosted on Github, in a Cornell Google Drive or Cornell Box).*\n"
   ]
  },
  {
   "cell_type": "markdown",
   "metadata": {
    "id": "r2WVlS-y8xVR"
   },
   "source": [
    "# Data Description and Cleaning"
   ]
  },
  {
   "cell_type": "markdown",
   "metadata": {},
   "source": [
    "The dataset used in this analysis is sourced from IMDb's public non-commercial datasets, which are pre-curated and contain information about worldwide movies, their producers, actors, genres and all sorts of metadata about movies. The original dataset has 7 files that include information about all of these aspects of movies. Since we are not web scraping data, and since the dataset is already cleaned and structured,  we were able to focus our cleaning process on refining and curating it for our specific analysis. However, due to the vast size of the dataset (containing millions of entries across 7 TSV files), we had to carefully select the most relevant files along with the relevant attributes for our analysis.\n",
    "\n",
    "Now we go and describe our Observations (Rows) and Attributes (Columns) for the two files we selected before cleaning:\n",
    "\n",
    "1. file 1: title.basics.tsv contains the following attributes:\n",
    "  - tconst (string) - alphanumeric unique identifier of the title\n",
    "  - titleType (string) – the type/format of the title (e.g. movie, short, tvseries, tvepisode, video, etc)\n",
    "  - primaryTitle (string) – the more popular title / the title used by the filmmakers on promotional materials at the point of release\n",
    "  - originalTitle (string) - original title, in the original language\n",
    "  - isAdult (boolean) - 0: non-adult title; 1: adult title\n",
    "  - startYear (YYYY) – represents the release year of a title. In the case of TV Series, it is the series start year\n",
    "  - endYear (YYYY) – TV Series end year. '\\N' for all other title types\n",
    "  - runtimeMinutes – primary runtime of the title, in minutes\n",
    "  - genres (string array) – includes up to three genres associated with the title\n",
    "2. file 2: title.ratings.tsv contains the following attributes:\n",
    "  - tconst (string) - alphanumeric unique identifier of the title\n",
    "  - averageRating: The average IMDb rating for the title.\n",
    "  - numVotes: The number of votes used to calculate the average rating.\n",
    "\n",
    "We counted 11,288,257 rows in the first dataset (titles.basics.tsv) and 1,508,183 in the second one (title.ratings.tsv).Each row is a unique movie (or other forms of film like tv shows, short movies etc..). The unique identifier is tconst which is a primary key in both datasets and which we will use to join the two later on. Each entry in the dataset corresponds to a unique IMDb identifier, ensuring that each data point is precisely linked to its respective entity.\n",
    "\n",
    "Detailed Explanation of Data Terms:\n",
    "- IMDb Identifiers:  \n",
    "  IMDb uses unique identifiers for every entity in their datasets. For example:\n",
    "  - tconst: Identifies a movie title.  \n",
    "    Example: `tt0050083` refers to \"12 Angry Men (1957)\".\n",
    "  - nm0000020: Identifies a person (e.g., actor).  \n",
    "    Example: `nm0000020` refers to actor \"Henry Fonda\".\n",
    "\n",
    "Dataset Purpose and Origin:\n",
    "- Why was this dataset created?\n",
    "  This dataset was created by IMDb to provide subsets of its entertainment database for personal and non-commercial use. It enables researchers, developers, and enthusiasts to analyze structured data related to movies, TV shows, and industry professionals. Updated daily, the dataset supports innovation, research, and educational projects while adhering to IMDb's licensing and non-commercial usage policies.\n",
    "\n",
    "- Who funded the creation of the dataset?  \n",
    "  The datasets were funded and created by IMDb, a subsidiary of Amazon, founded in 1990 which is a commercial platform that collects, organizes, and distributes movie-related data. it is the world's most popular and authoritative source for movies, TV and celebrity content, designed to help many explore the vast world of movies and shows. \n",
    "\n",
    "Data Reliability and Trustworthiness:\n",
    "- Data Reliability:  \n",
    "  The datasets provided by IMDb are widely regarded as reliable and are commonly used in movie-related analyses. Many data scientists rely on this source due to its reputation as one of the most trustworthy databases about movies. Being owned by Amazon further enhances its credibility and trustworthiness. IMDb offers accurate data, reviews, and ratings, allowing users to browse confidently without concerns about scams or fraudulent content. However, as the data is provided for non-commercial use, there may be some gaps or limitations, such as missing metadata or inconsistencies in older data entries.\n",
    "\n",
    "Ethical Considerations and Public Awareness:\n",
    "- Were people aware of the data collection?  \n",
    "  IMDb users are aware that their data (such as movie ratings and reviews) is collected and used for statistical analysis. IMDb's Terms of Use state that user-generated content, like ratings and reviews, may be used for non-commercial purposes, including research and analysis.\n",
    "\n",
    "- What processes influenced what data was observed and recorded?  \n",
    "  IMDb collects data from multiple sources, including user submissions and professional contributions. The data is then reviewed and curated by IMDb staff before being made available for public use. The decisions about which attributes (e.g., genre, runtime) to include are influenced by industry standards and user demands for comprehensive movie information. We decided to choose the relevant attributes to our question in our cleaning and exploratory phase. We included attributes like primarytitle and runtimeMinutes in our cleaned dataset for example.\n",
    "\n",
    "Data Preprocessing and cleaning:\n",
    "\n",
    "- Preprocessing:  \n",
    "  The two tsv files are well-formatted, so not much additional cleaning steps were required. We restricted our analysis to movies released after **2000** to ensure consistency in the quality and standards of ratings over time, as the audience for these films is likely to be of similar generational demographics. We also wanted to shrink the size of our research and focus more on a smaller subset which we can expand on if we decided to move on with this project in the future. We also decided to drop some columns which were irreleven to our research question like whether a movies had adult content or not. The final cleaned dataset includes only the following columns:\n",
    "  - Movie title\n",
    "  - Genre\n",
    "  - originalTitle\n",
    "  - primaryTitle\n",
    "  - Runtime in minutes\n",
    "  - Release year\n",
    "  - Average rating\n",
    "  - Number of votes\n",
    "\n",
    "  After filtering the data and selecting the relevant attributes, we imported it into our analysis workflow. we also dropped NA values. More on cleaning our data can be found in our DataCleaning notebook in our repo: [GitHub - IMDb Final Project](https://github.com/mohdLabadi/info2950-finalproject).\n",
    "\n",
    "  **Does the dataset contain all possible instances or is it a sample (not necessarily random) of instances from a larger set?**\n",
    "  -  The data includes all movies that are registred on IMBD which is pretty much \n",
    "\n",
    "\n",
    "Raw Data Access:\n",
    "- Where can the raw data be found?  \n",
    "  The raw dataset can be accessed from IMDb’s official website through the following link:  \n",
    "  [IMDb Non-Commercial Datasets](https://developer.imdb.com/non-commercial-datasets/)\n",
    "\n",
    "Data Cleaning and Reproduction:\n",
    "- Link to Data Cleaning and Cleaned Dataset  \n",
    "  The data cleaning process and final dataset can be found on our GitHub repository:  \n",
    "  [GitHub - IMDb Final Project](https://github.com/mohdLabadi/info2950-finalproject)\n",
    "\n",
    "Limitations and considerations: \n",
    "\n",
    "- Handling Changes and Duplicates:\n",
    "  IMDb data is constantly updated, which can lead to the creation of duplicate entries for the same entity. This can happen when multiple contributors add data under different identifiers for the same entity (e.g., the same person or movie). IMDb manages these duplicates by maintaining both identifiers and includes fields like remappedTo (in bulk data) and meta.canonicalId (in the API) to track the preferred, updated identifier for that entity. For example, the pilot episode of The Big Bang Theory is associated with two Title IDs: tt1044014 (remapped) and tt0775431 (preferred).\n",
    "\n",
    "- Deleted IDs:\n",
    "  Entities that are removed from IMDb, such as canceled titles or unproduced films, are deleted from the dataset. Once deleted, their identifiers are never reused for different entities.\n",
    "\n",
    "- Disparity in the number of rows between the ratings file and the titles file.\n",
    "  We counted 11,288,257 rows in the first dataset (titles.basics.tsv) and 1,508,183 in the second one (title.ratings.tsv) as we said. Since there is a disparity in the number of rows/movies there might be some movies that are not rated on IMBD which would allow us to do much our analysis on around 1/10 the size of the titles dataset."
   ]
  },
  {
   "cell_type": "markdown",
   "metadata": {},
   "source": [
    "rubric items:\n",
    "\n",
    "- At least 2 statements are detailed. \n",
    "- Each statement includes 1 hypothesis and 1 description of the analysis. \n",
    "- The preregistered analyses reflect deep and critical thinking about the real-world application from which the data originates. \n",
    "- The hypothesis is substantiated by a description of domain knowledge and likely includes some citations. \n",
    "- The analyses are described in a way that persuades the reader that their results will be interesting, whether or not they turn out to be statistically significant.\n",
    "- The analyses referenced are scientifically valid and compelling.\n"
   ]
  },
  {
   "cell_type": "markdown",
   "metadata": {
    "id": "6azchgu9Lvpd"
   },
   "source": [
    "# Pre Registration Statement 1.\n",
    "- Hypothesis: **Longer movie titles have a greater influence on a person’s decision to pick a movie than longer runtimes in some genres, based on the IMDb dataset.**\n",
    "     - Null Hypothesis (H₀): There is no difference in the influence of movie title length versus runtime length on a person’s decision to pick a movie across different genres. In other words, movie titles and runtimes equally influence the decision to pick a movie.\n",
    "     - Alternative Hypothesis (H₁): Longer movie titles have a stronger influence on a person’s decision to pick a movie than longer runtimes in some genres, as compared to other genres or as compared to runtimes in the same genres.\n",
    "\n",
    "- Why we chose this hypothesis?\n",
    "     \n",
    "     We think that movie makers usually focus more on making a movie longer and more entertaining when really the first thing that grabs a person's attention is a movie's title and if there was a metric to decide which movies (in our case movies with longer title names) is more attention grabbing then maybe movie makers should give a movie title more thought and consider how movie title influence both the ratings a movie gets and how many people decide to vote for that movie. We think longer movies sometimes are rated better because they have more time to tell a full story whether it was a romance or a drama movie. From the other perspective, we also think that a movie's runtime plays a role in the process of choosing a movie. People dont have infinite time to watch a movie and sometimes they decide to pick one that is short. Also longer movies might get boring at some point. So based on this observation and the capacities of our dataset and the tools we learnt we think this is a valid hypothesis to test.\n",
    "\n",
    "- Proposed analysis:\n",
    "     - Dual Factor Analysis: Include both movie runtime and title length as independent variables in regression models for each genre. Assess the relative influence of runtime and title length by comparing the size and significance of their coefficients.\n",
    "\n",
    "     - Genre-Specific Comparisons: Run separate models for drama, romance, action, and comedy to evaluate whether these factors have a more pronounced effect in certain genres. Test interaction effects between genre and runtime/title length to identify genre-specific patterns.\n",
    "\n",
    "     - Non-Linear Relationships: Add quadratic terms for runtime and title length to test if their effects vary at extreme values (e.g., very long movies or overly long titles). Compare linear and non-linear models to determine the best fit for each genre.\n",
    "\n",
    "     - Segmented Ratings Analysis: Conduct separate analyses for critic and audience ratings to determine whether these groups are differently influenced by runtime and title length.\n",
    "\n",
    "Please look at the end of this document for citations of similar studies that we found interesting and pretty related to what we are doing :)\n"
   ]
  },
  {
   "cell_type": "markdown",
   "metadata": {
    "id": "T2dbFjFJL1Jw"
   },
   "source": [
    "# Pre Registration Statement 2.\n",
    "- Hypothesis: **The relationship between a movie's runtime and its IMDb rating is stronger for movies released after 2010 across all genres, likely due to the influence of streaming platforms, which have altered viewing habits.**\n",
    "    - Null Hypothesis (H₀): The relationship between a movie's runtime and its IMDb rating is equally strong for movies released before and after 2010 across all genres.\n",
    "    - Alternative Hypothesis (H₁): The relationship between a movie's runtime and its IMDb rating is stronger for movies released after 2010 compared to those released before 2010, across all genres.\n",
    "\n",
    "- Why we chose this hypothesis?\n",
    "\n",
    "    This question addresses a significant shift in movie consumption patterns over the past decade. With the rise of streaming platforms like Netflix, Hulu, and Amazon Prime, the way people watch movies and TV shows has dramatically changed. Streaming services have made longer, binge-worthy content more accessible, leading to shifts in viewer expectations. By testing this hypothesis, we aim to explore how these changing viewing habits—particularly the increased flexibility to watch longer content—have influenced audience ratings of movies.\n",
    "\n",
    "    The results could provide valuable insights for filmmakers and studios, helping them understand the evolving preferences of modern viewers. If we find that longer runtimes are correlated with higher ratings post-2010, it may encourage filmmakers to create extended versions of films, especially for genres that lend themselves to longer narratives. This shift would align with the growing demand for content suited to binge-watching.\n",
    "\n",
    "    Additionally, this analysis introduces the element of release year into the equation. While we briefly considered exploring the impact of movie title lengths on ratings and comparing that pre and post 2010, we determined that title length has likely not been influenced by the streaming boom in the same way that runtimes have. The increased flexibility in watching longer movies—something streaming services facilitate—has more directly affected audience preferences for movie length, which is why we focus on runtimes rather than titles.\n",
    "\n",
    "- Analysis:"
   ]
  },
  {
   "cell_type": "markdown",
   "metadata": {
    "id": "vWf0SUmx-BzY"
   },
   "source": [
    "# Data analysis"
   ]
  },
  {
   "cell_type": "markdown",
   "metadata": {
    "id": "9kA1bml99_-q"
   },
   "source": [
    "Carry out the analysis for each preregistration statement.\n",
    "Interpret analyses appropriately (e.g., regressions should be interpreted using the\n",
    "summarizing, predicting, and outliers/oddities framework from class)"
   ]
  },
  {
   "cell_type": "code",
   "execution_count": 10,
   "metadata": {
    "id": "9oxrFRbAIShB"
   },
   "outputs": [
    {
     "name": "stderr",
     "output_type": "stream",
     "text": [
      "/var/folders/35/1jjd0bn52slcp0p0s2xcvx1h0000gn/T/ipykernel_26903/1411753082.py:8: DtypeWarning: Columns (6) have mixed types. Specify dtype option on import or set low_memory=False.\n",
      "  joined_df = pd.read_csv('joined_data.csv')\n"
     ]
    }
   ],
   "source": [
    "import pandas as pd\n",
    "import numpy as np\n",
    "import matplotlib.pyplot as plt\n",
    "import seaborn as sns\n",
    "import scipy.stats as stats\n",
    "\n",
    "cleaned_df = pd.read_csv('cleaned_data.csv')\n",
    "joined_df = pd.read_csv('joined_data.csv')"
   ]
  },
  {
   "cell_type": "markdown",
   "metadata": {
    "id": "G5dqsxQeEqHF"
   },
   "source": [
    "1. Correlation Analysis"
   ]
  },
  {
   "cell_type": "code",
   "execution_count": 12,
   "metadata": {
    "id": "bVcdso5zIGfo"
   },
   "outputs": [
    {
     "name": "stdout",
     "output_type": "stream",
     "text": [
      "<class 'pandas.core.series.Series'>\n",
      "                    runtimeMinutes  primaryTitleLength  averageRating\n",
      "runtimeMinutes             1.00000                 NaN       -0.00282\n",
      "primaryTitleLength             NaN                 NaN            NaN\n",
      "averageRating             -0.00282                 NaN        1.00000\n"
     ]
    },
    {
     "data": {
      "image/png": "[encoded data removed]",
      "text/plain": [
       "<Figure size 640x480 with 2 Axes>"
      ]
     },
     "metadata": {},
     "output_type": "display_data"
    }
   ],
   "source": [
    "# add a new column for title length:\n",
    "\n",
    "print(type(cleaned_df[\"primaryTitle\"]))\n",
    "\n",
    "joined_df.replace('\\\\N', np.nan, inplace=True)\n",
    "\n",
    "joined_df[\"primaryTitle\"] = joined_df[\"primaryTitle\"].dropna()\n",
    "\n",
    "joined_df[\"primaryTitleLength\"] = len(joined_df[\"primaryTitle\"])\n",
    "\n",
    "correlation_matrix = joined_df[['runtimeMinutes', 'primaryTitleLength', 'averageRating']].corr()\n",
    "print(correlation_matrix)\n",
    "\n",
    "sns.heatmap(correlation_matrix, annot=True, cmap=\"coolwarm\")\n",
    "plt.title(\"Correlation Matrix\")\n",
    "plt.show()"
   ]
  },
  {
   "cell_type": "markdown",
   "metadata": {
    "id": "yQkIlgzuIeTc"
   },
   "source": [
    "2. Genre Specific"
   ]
  },
  {
   "cell_type": "code",
   "execution_count": 17,
   "metadata": {
    "id": "zWeUf4aaJEaQ"
   },
   "outputs": [
    {
     "name": "stdout",
     "output_type": "stream",
     "text": [
      "      tconst titleType            primaryTitle  startYear runtimeMinutes  \\\n",
      "0  tt0011801     movie        Tötet nicht mehr       2019             \\N   \n",
      "0  tt0011801     movie        Tötet nicht mehr       2019             \\N   \n",
      "1  tt0015414     movie  La tierra de los toros       2000             60   \n",
      "2  tt0035423     movie          Kate & Leopold       2001            118   \n",
      "2  tt0035423     movie          Kate & Leopold       2001            118   \n",
      "\n",
      "                   genres    genre  \n",
      "0            Action,Crime   Action  \n",
      "0            Action,Crime    Crime  \n",
      "1                      \\N       \\N  \n",
      "2  Comedy,Fantasy,Romance   Comedy  \n",
      "2  Comedy,Fantasy,Romance  Fantasy  \n",
      "genre\n",
      "Drama          116119\n",
      "Documentary    104199\n",
      "Comedy          56426\n",
      "Thriller        25425\n",
      "Action          24304\n",
      "Horror          23476\n",
      "Romance         22596\n",
      "Crime           16435\n",
      "\\N              16354\n",
      "Biography       12547\n",
      "Adventure       12347\n",
      "Family          10678\n",
      "Mystery         10507\n",
      "Music            9426\n",
      "History          9401\n",
      "Fantasy          8037\n",
      "Sci-Fi           6879\n",
      "Animation        6327\n",
      "Sport            5438\n",
      "Musical          3321\n",
      "War              3073\n",
      "Adult            1485\n",
      "News             1351\n",
      "Western           988\n",
      "Reality-TV        480\n",
      "Talk-Show         170\n",
      "Game-Show          21\n",
      "Name: count, dtype: int64\n",
      "['Action' 'Crime' '\\\\N' ... 'Comedy' 'Drama' 'Documentary']\n"
     ]
    }
   ],
   "source": [
    "# Split genres into individual rows\n",
    "genres_df = cleaned_df.assign(genre=cleaned_df['genres'].str.split(',')).explode('genre')\n",
    "\n",
    "print(genres_df.head())\n",
    "# Check unique genres\n",
    "print(genres_df['genre'].value_counts())\n",
    "\n",
    "genres = np.array(genres_df['genre'])\n",
    "print(genres)"
   ]
  },
  {
   "cell_type": "code",
   "execution_count": null,
   "metadata": {
    "id": "xaIAQjTqJHGG"
   },
   "outputs": [],
   "source": []
  },
  {
   "cell_type": "markdown",
   "metadata": {
    "id": "W_FgGM1-JKKO"
   },
   "source": [
    "3. Regression Analysis"
   ]
  },
  {
   "cell_type": "code",
   "execution_count": 1,
   "metadata": {
    "id": "dnYjGnkPJJcc"
   },
   "outputs": [
    {
     "ename": "NameError",
     "evalue": "name 'genres_df' is not defined",
     "output_type": "error",
     "traceback": [
      "\u001b[0;31m---------------------------------------------------------------------------\u001b[0m",
      "\u001b[0;31mNameError\u001b[0m                                 Traceback (most recent call last)",
      "Cell \u001b[0;32mIn[1], line 21\u001b[0m\n\u001b[1;32m     18\u001b[0m     plt\u001b[38;5;241m.\u001b[39mshow()\n\u001b[1;32m     20\u001b[0m \u001b[38;5;66;03m# Test for drama\u001b[39;00m\n\u001b[0;32m---> 21\u001b[0m run_linear_regression(\u001b[38;5;124m'\u001b[39m\u001b[38;5;124mDrama\u001b[39m\u001b[38;5;124m'\u001b[39m)\n",
      "Cell \u001b[0;32mIn[1], line 3\u001b[0m, in \u001b[0;36mrun_linear_regression\u001b[0;34m(genre)\u001b[0m\n\u001b[1;32m      2\u001b[0m \u001b[38;5;28;01mdef\u001b[39;00m \u001b[38;5;21mrun_linear_regression\u001b[39m(genre):\n\u001b[0;32m----> 3\u001b[0m     subset \u001b[38;5;241m=\u001b[39m genres_df[genres_df[\u001b[38;5;124m'\u001b[39m\u001b[38;5;124mgenre\u001b[39m\u001b[38;5;124m'\u001b[39m] \u001b[38;5;241m==\u001b[39m genre]\n\u001b[1;32m      4\u001b[0m     X \u001b[38;5;241m=\u001b[39m subset[[\u001b[38;5;124m'\u001b[39m\u001b[38;5;124mruntimeMinutes\u001b[39m\u001b[38;5;124m'\u001b[39m]]\n\u001b[1;32m      5\u001b[0m     y \u001b[38;5;241m=\u001b[39m subset[\u001b[38;5;124m'\u001b[39m\u001b[38;5;124maverageRating\u001b[39m\u001b[38;5;124m'\u001b[39m]\n",
      "\u001b[0;31mNameError\u001b[0m: name 'genres_df' is not defined"
     ]
    }
   ],
   "source": [
    "# Define a function to run linear regression for a specific genre\n",
    "def run_linear_regression(genre):\n",
    "    subset = genres_df[genres_df['genre'] == genre]\n",
    "    X = subset[['runtimeMinutes']]\n",
    "    y = subset['averageRating']\n",
    "\n",
    "    model = LinearRegression()\n",
    "    model.fit(X, y)\n",
    "\n",
    "    coef = model.coef_[0]\n",
    "    intercept = model.intercept_\n",
    "    print(f\"Linear Regression for {genre}: Coefficient={coef:.4f}, Intercept={intercept:.4f}\")\n",
    "\n",
    "    sns.regplot(x='runtimeMinutes', y='averageRating', data=subset, line_kws={'color': 'red'})\n",
    "    plt.title(f\"Linear Relationship Between Runtime and Rating in {genre}\")\n",
    "    plt.xlabel(\"Runtime (Minutes)\")\n",
    "    plt.ylabel(\"Average Rating\")\n",
    "    plt.show()\n",
    "\n",
    "# Test for drama\n",
    "run_linear_regression('Drama')\n"
   ]
  },
  {
   "cell_type": "code",
   "execution_count": null,
   "metadata": {
    "id": "1wnJ3h-NJSnE"
   },
   "outputs": [],
   "source": [
    "# Polynomial regression for a genre\n",
    "def run_polynomial_regression(genre, degree=2):\n",
    "    subset = genres_df[genres_df['genre'] == genre]\n",
    "    X = subset[['runtimeMinutes']]\n",
    "    y = subset['averageRating']\n",
    "\n",
    "    poly = PolynomialFeatures(degree)\n",
    "    X_poly = poly.fit_transform(X)\n",
    "\n",
    "    model = LinearRegression()\n",
    "    model.fit(X_poly, y)\n",
    "\n",
    "    print(f\"Polynomial Regression for {genre} (Degree {degree}): Coefficients={model.coef_}, Intercept={model.intercept_}\")\n",
    "\n",
    "    sns.scatterplot(x='runtimeMinutes', y='averageRating', data=subset, alpha=0.6)\n",
    "    x_range = np.linspace(X['runtimeMinutes'].min(), X['runtimeMinutes'].max(), 100).reshape(-1, 1)\n",
    "    y_poly_pred = model.predict(poly.transform(x_range))\n",
    "    plt.plot(x_range, y_poly_pred, color='red')\n",
    "    plt.title(f\"Polynomial Relationship Between Runtime and Rating in {genre}\")\n",
    "    plt.xlabel(\"Runtime (Minutes)\")\n",
    "    plt.ylabel(\"Average Rating\")\n",
    "    plt.show()\n",
    "\n",
    "# Test for drama\n",
    "run_polynomial_regression('Drama', degree=2)\n"
   ]
  },
  {
   "cell_type": "markdown",
   "metadata": {
    "id": "ERLc6REDJWhM"
   },
   "source": [
    "4. Combined Analysis of Runtime and Title Length:"
   ]
  },
  {
   "cell_type": "code",
   "execution_count": null,
   "metadata": {
    "id": "p89VnfM6JZ46"
   },
   "outputs": [],
   "source": [
    "# Multi-variable regression for drama\n",
    "drama_subset = genres_df[genres_df['genre'] == 'Drama']\n",
    "X = drama_subset[['runtimeMinutes', 'titleLength']]\n",
    "y = drama_subset['averageRating']\n",
    "\n",
    "model = LinearRegression()\n",
    "model.fit(X, y)\n",
    "\n",
    "print(f\"Coefficients: {model.coef_}, Intercept: {model.intercept_}\")\n",
    "\n",
    "# Visualize the effects of both variables\n",
    "sns.scatterplot(x='runtimeMinutes', y='averageRating', data=drama_subset, label='Runtime')\n",
    "sns.scatterplot(x='titleLength', y='averageRating', data=drama_subset, label='Title Length')\n",
    "plt.legend()\n",
    "plt.title(\"Effects of Runtime and Title Length on Rating (Drama)\")\n",
    "plt.show()\n"
   ]
  },
  {
   "cell_type": "markdown",
   "metadata": {
    "id": "05eqa4yK-GRg"
   },
   "source": [
    "# Evaluation of significance"
   ]
  },
  {
   "cell_type": "code",
   "execution_count": null,
   "metadata": {
    "id": "XPoJKPpNLAJb"
   },
   "outputs": [],
   "source": [
    "import statsmodels.api as sm\n",
    "\n",
    "# Function to perform OLS regression and report results\n",
    "def run_ols_regression(genre):\n",
    "    # Filter the dataset for the given genre\n",
    "    subset = genres_df[genres_df['genre'] == genre]\n",
    "\n",
    "    # Independent and dependent variables\n",
    "    X = subset[['runtimeMinutes', 'titleLength']]\n",
    "    X = sm.add_constant(X)  # Add a constant term for the intercept\n",
    "    y = subset['averageRating']\n",
    "\n",
    "    # Fit the OLS model\n",
    "    model = sm.OLS(y, X).fit()\n",
    "\n",
    "    # Print the summary with coefficients and p-values\n",
    "    print(f\"OLS Regression Results for {genre}\")\n",
    "    print(model.summary())\n",
    "\n",
    "    return model\n",
    "\n",
    "# Run for Drama\n",
    "drama_model = run_ols_regression('Drama')\n"
   ]
  },
  {
   "cell_type": "code",
   "execution_count": null,
   "metadata": {
    "id": "rL3bijI8L29M"
   },
   "outputs": [],
   "source": [
    "genres_to_test = ['Drama', 'Romance', 'Action', 'Comedy']\n",
    "\n",
    "# Run OLS regression for each genre\n",
    "results = {genre: run_ols_regression(genre) for genre in genres_to_test}\n"
   ]
  },
  {
   "cell_type": "code",
   "execution_count": null,
   "metadata": {
    "colab": {
     "base_uri": "https://localhost:8080/",
     "height": 297
    },
    "id": "jGwgDSi-L7cT",
    "outputId": "b964cbb0-9a68-487c-d74f-14a077578373"
   },
   "outputs": [
    {
     "ename": "NameError",
     "evalue": "name 'genres_df' is not defined",
     "output_type": "error",
     "traceback": [
      "\u001b[0;31m---------------------------------------------------------------------------\u001b[0m",
      "\u001b[0;31mNameError\u001b[0m                                 Traceback (most recent call last)",
      "\u001b[0;32m<ipython-input-2-85af3a7454bd>\u001b[0m in \u001b[0;36m<cell line: 23>\u001b[0;34m()\u001b[0m\n\u001b[1;32m     21\u001b[0m \u001b[0;34m\u001b[0m\u001b[0m\n\u001b[1;32m     22\u001b[0m \u001b[0;31m# Run polynomial regression for Drama\u001b[0m\u001b[0;34m\u001b[0m\u001b[0;34m\u001b[0m\u001b[0m\n\u001b[0;32m---> 23\u001b[0;31m \u001b[0mdrama_poly_model\u001b[0m \u001b[0;34m=\u001b[0m \u001b[0mrun_polynomial_ols\u001b[0m\u001b[0;34m(\u001b[0m\u001b[0;34m'Drama'\u001b[0m\u001b[0;34m,\u001b[0m \u001b[0mdegree\u001b[0m\u001b[0;34m=\u001b[0m\u001b[0;36m2\u001b[0m\u001b[0;34m)\u001b[0m\u001b[0;34m\u001b[0m\u001b[0;34m\u001b[0m\u001b[0m\n\u001b[0m",
      "\u001b[0;32m<ipython-input-2-85af3a7454bd>\u001b[0m in \u001b[0;36mrun_polynomial_ols\u001b[0;34m(genre, degree)\u001b[0m\n\u001b[1;32m      2\u001b[0m \u001b[0;32mdef\u001b[0m \u001b[0mrun_polynomial_ols\u001b[0m\u001b[0;34m(\u001b[0m\u001b[0mgenre\u001b[0m\u001b[0;34m,\u001b[0m \u001b[0mdegree\u001b[0m\u001b[0;34m=\u001b[0m\u001b[0;36m2\u001b[0m\u001b[0;34m)\u001b[0m\u001b[0;34m:\u001b[0m\u001b[0;34m\u001b[0m\u001b[0;34m\u001b[0m\u001b[0m\n\u001b[1;32m      3\u001b[0m     \u001b[0;31m# Filter the dataset for the given genre\u001b[0m\u001b[0;34m\u001b[0m\u001b[0;34m\u001b[0m\u001b[0m\n\u001b[0;32m----> 4\u001b[0;31m     \u001b[0msubset\u001b[0m \u001b[0;34m=\u001b[0m \u001b[0mgenres_df\u001b[0m\u001b[0;34m[\u001b[0m\u001b[0mgenres_df\u001b[0m\u001b[0;34m[\u001b[0m\u001b[0;34m'genre'\u001b[0m\u001b[0;34m]\u001b[0m \u001b[0;34m==\u001b[0m \u001b[0mgenre\u001b[0m\u001b[0;34m]\u001b[0m\u001b[0;34m\u001b[0m\u001b[0;34m\u001b[0m\u001b[0m\n\u001b[0m\u001b[1;32m      5\u001b[0m \u001b[0;34m\u001b[0m\u001b[0m\n\u001b[1;32m      6\u001b[0m     \u001b[0;31m# Prepare polynomial features for runtime\u001b[0m\u001b[0;34m\u001b[0m\u001b[0;34m\u001b[0m\u001b[0m\n",
      "\u001b[0;31mNameError\u001b[0m: name 'genres_df' is not defined"
     ]
    }
   ],
   "source": [
    "# Polynomial regression with statsmodels\n",
    "def run_polynomial_ols(genre, degree=2):\n",
    "    # Filter the dataset for the given genre\n",
    "    subset = genres_df[genres_df['genre'] == genre]\n",
    "\n",
    "    # Prepare polynomial features for runtime\n",
    "    poly = PolynomialFeatures(degree, include_bias=False)\n",
    "    runtime_poly = poly.fit_transform(subset[['runtimeMinutes']])\n",
    "\n",
    "    # Create a DataFrame for regression\n",
    "    X = pd.DataFrame(runtime_poly, columns=[f'runtime_{i}' for i in range(1, degree + 1)])\n",
    "    X['titleLength'] = subset['titleLength']\n",
    "    X = sm.add_constant(X)  # Add intercept\n",
    "    y = subset['averageRating']\n",
    "\n",
    "    # Fit the model\n",
    "    model = sm.OLS(y, X).fit()\n",
    "    print(f\"Polynomial OLS Regression Results for {genre}\")\n",
    "    print(model.summary())\n",
    "    return model\n",
    "\n",
    "# Run polynomial regression for Drama\n",
    "drama_poly_model = run_polynomial_ols('Drama', degree=2)\n"
   ]
  },
  {
   "cell_type": "markdown",
   "metadata": {
    "id": "ZFwH1txA-GsI"
   },
   "source": [
    "# Conclusions\n",
    "\n"
   ]
  },
  {
   "cell_type": "markdown",
   "metadata": {
    "id": "L2SoCXPe-PlI"
   },
   "source": [
    "# Limitations"
   ]
  },
  {
   "cell_type": "markdown",
   "metadata": {
    "id": "Nu7_eror-XzC"
   },
   "source": [
    "\n",
    "Data Sources:\n",
    "The data observed and recorded might have been influenced by how the data is collected. For IMDb, they collect their data through various sources, including direct input from filmmakers, studios, and users, as well as IMDb's internal data collection processes.\n",
    "\n",
    "Rating Bias:\n",
    "In addition, the data or ratings submitted by users can cause biases, because the information may be incomplete or not reflect the accurate titles. Beside, the demographics of IMDb users are biased among genders, geographics, ages, cultures, and linguistics, so the rating might not reflect the accurate feedback of the audience.\n",
    "\n",
    "Policy Restrictions:\n",
    "Lastly, the data could be influenced by IMDb's editorial policies and the submission guidelines they provide to contributors. Therefore, certain titles may lack sufficient data if contributors fail to adhere to submission guidelines or the policies may prioritize professionally verified information over crowd-sourced data, limiting smaller or independent films.\n",
    "\n"
   ]
  },
  {
   "cell_type": "markdown",
   "metadata": {
    "id": "Q__Z5XYc-Nx3"
   },
   "source": [
    "# Acknowledgements and Bibliography\n",
    "\n",
    "This data is made accessible via IMDb’s GraphQL API on AWS Data Exchange for easier integration into customer applications.\n",
    "\n",
    "- IMDB, \"IMDb Non-Commercial Datasets. title.basics.tsv\", Accessed November 21, 2024. https://developer.imdb.com/non-commercial-datasets/\n",
    "\n",
    "- IMDB, \"IMDb Non-Commercial Datasets. title.ratings.tsv\", Accessed November 21, 2024. https://developer.imdb.com/non-commercial-datasets/\n",
    "\n",
    "\n",
    "Citations for studies that had similar analyes of movies titles and runtimes: \n",
    "\n",
    "movie titles:\n",
    "\n",
    "https://www.overthinkingit.com/2011/05/17/statistical-analysis-of-movie-title-lengths/#google_vignette\n",
    "\n",
    "movie summaries \n",
    "https://ieeexplore.ieee.org/document/9898114\n",
    "\n",
    "impact of the originality of a title (which we were going to add to our analyese but found many limitations on what originality might indicate)\n",
    "\n",
    "https://sites.duke.edu/djepapers/files/2019/07/jacobgraberlipperman-dje.pdf \n"
   ]
  },
  {
   "cell_type": "code",
   "execution_count": null,
   "metadata": {
    "id": "rVVL_SEs-O0N"
   },
   "outputs": [],
   "source": []
  }
 ],
 "metadata": {
  "colab": {
   "provenance": []
  },
  "kernelspec": {
   "display_name": "info2950",
   "language": "python",
   "name": "python3"
  },
  "language_info": {
   "codemirror_mode": {
    "name": "ipython",
    "version": 3
   },
   "file_extension": ".py",
   "mimetype": "text/x-python",
   "name": "python",
   "nbconvert_exporter": "python",
   "pygments_lexer": "ipython3",
   "version": "3.12.2"
  }
 },
 "nbformat": 4,
 "nbformat_minor": 4
}

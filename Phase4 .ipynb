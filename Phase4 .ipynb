{
  "nbformat": 4,
  "nbformat_minor": 0,
  "metadata": {
    "colab": {
      "provenance": []
    },
    "kernelspec": {
      "name": "python3",
      "display_name": "Python 3"
    },
    "language_info": {
      "name": "python"
    }
  },
  "cells": [
    {
      "cell_type": "markdown",
      "source": [
        "\n",
        "# INFO 2950 Final Project - Phase IV\n",
        "\n"
      ],
      "metadata": {
        "id": "VBgEOC2-5-po"
      }
    },
    {
      "cell_type": "markdown",
      "source": [
        "## Research Question:\n",
        "\n",
        "Are movies from different genres in the IMDb dataset more influenced by longer runtimes or longer movie titles?\n",
        "\n",
        "Movies are a fusion of artistic creativity and audience appeal, with various factors contributing to their identity. Among these, the runtime and title length can significantly shape a film's perception and reception. This investigation delves into the IMDb dataset to explore whether movies from different genres are more influenced by their runtime or the length of their titles. By analyzing these patterns, the study seeks to uncover how genres balance storytelling duration with the impact of a compelling title, offering insights into the subtle ways film characteristics align with genre expectations and audience engagement. We also hope to discover patterns related to how the public audience interacts with these movies, do they vote more for movies with longer titles or longer runtimes? How does this interplay change when we change the genre of the movies? How does belonging to multiple genres affect the patterns observed in movies categorized under a single genre?\n"
      ],
      "metadata": {
        "id": "xAZmDsLA6Nen"
      }
    },
    {
      "cell_type": "markdown",
      "source": [
        "# Data Description and Cleaning"
      ],
      "metadata": {
        "id": "r2WVlS-y8xVR"
      }
    },
    {
      "cell_type": "markdown",
      "source": [
        "Data description and cleaning. Refer to the Phase 2 rubric for instructions on\n",
        "“Datasheets for Datasets” questions. Additionally, describe the data cleaning\n",
        "steps taken for your project, and provide a link to the ipynb on GitHub that\n",
        "performs these data cleaning steps. If it would be helpful for understanding your\n",
        "research question, feel free to include some figures from your Phase 2 EDA to\n",
        "better explain your data."
      ],
      "metadata": {
        "id": "KQi47nb782EF"
      }
    },
    {
      "cell_type": "markdown",
      "source": [
        "For this project, we are using **two** datasets from IMDb: title.basics.tsv and title.ratings.tsv, sourced from IMDb's dataset repository. These datasets provide information about movie titles, their ratings, and other attributes, allowing us to explore the relationship between genres and IMDb ratings in relation to our question.\n",
        "\n",
        "Arrtibutes of file 1:\n",
        "- tconst: A unique identifier for each title.\n",
        "- primaryTitle: The title commonly used for promotional purposes.\n",
        "- startYear: The year the title was released.\n",
        "- runtimeMinutes: The duration of the title in minutes.\n",
        "- genres: Up to three genres associated with the title.\n",
        "- Data origin: The two datasets we used were funded and created by IMDb officials for access to customers for personal and non-commercial use.\n",
        "\n",
        "Attributes of file 2:\n",
        "- averageRating: The average IMDb rating for the title.\n",
        "- numVotes: The number of votes used to calculate the average rating.\n",
        "\n",
        "Data cleaning: These datasets created by IMDb are well formatted as TSV. Therefore, there is no more steps needed to be done to use the dataset on our end. For processing, we restricted the data to movies released after the year 2000 to ensure consistency in rating standards, because the audience watching these movies likely belongs to the same or adjacent generations. We also kept only the essential fields—movie title, release year, genre, ratings, and number of votes—to ensure the dataset is clean and focused solely on the information relevant to our analysis. We kept the necessary information including the movie title, genre, runtime minutes, release year, average rating, and number of votes for the average rating. We also kept the title id to use it for combining data from different datasets.\n",
        "\n",
        "Source: These datasets can be found on the official website of IMDb through the following link: https://developer.imdb.com/non-commercial-datasets/\n",
        "\n",
        "\n",
        "Link to data cleaning and cleaned dataset to reproduce our results here:\n",
        "https://github.com/mohdLabadi/info2950-finalproject\n",
        "\n",
        "\n"
      ],
      "metadata": {
        "id": "hroIecWj9GNN"
      }
    },
    {
      "cell_type": "markdown",
      "source": [
        "Preregistration statement. Provide at least 2 preregistration statements. Each\n",
        "statement contains a hypothesis and a description of analysis to study the\n",
        "hypothesis. It should also include context for why you believe in your hypothesis by referencing domain knowledge or other literature. Refer to Phase 3 rubric for more details"
      ],
      "metadata": {
        "id": "0IGKthz5IEeC"
      }
    },
    {
      "cell_type": "markdown",
      "source": [
        "The hypothesis is substantiated by a description of domain knowledge and likely includes some citations. The analyses are described in a way\n",
        "that persuades the reader that their results will be interesting, whether or not they turn out to be."
      ],
      "metadata": {
        "id": "Ec__L2PE_kUc"
      }
    },
    {
      "cell_type": "markdown",
      "source": [
        "# Pre Registration Statement 1.\n",
        "- Hypothesis: There is a bigger influence on movies from different genres in the IMDb dataset from longer runtimes than longer titles.\n",
        "- Why we chose this hypothesis: We think that longer movies sometimes are rated better because they have more time to tell a full story whether it was a romance or a drama movie. However, it might also mean that longer movies might get boring at some point. So based on this observation and the capacities of our dataset and the tools we learnt we\n",
        "think this is a valid hypothesis to test.\n",
        "- Proposed analysis:\n",
        "     - Dual Factor Analysis: Include both movie runtime and title length as independent variables in regression models for each genre. Assess the relative influence of runtime and title length by comparing the size and significance of their coefficients.\n",
        "\n",
        "     - Genre-Specific Comparisons: Run separate models for drama, romance, action, and comedy to evaluate whether these factors have a more pronounced effect in certain genres. Test interaction effects between genre and runtime/title length to identify genre-specific patterns.\n",
        "\n",
        "     - Non-Linear Relationships: Add quadratic terms for runtime and title length to test if their effects vary at extreme values (e.g., very long movies or overly long titles). Compare linear and non-linear models to determine the best fit for each genre.\n",
        "\n",
        "     - Segmented Ratings Analysis: Conduct separate analyses for critic and audience ratings to determine whether these groups are differently influenced by runtime and title length."
      ],
      "metadata": {
        "id": "6azchgu9Lvpd"
      }
    },
    {
      "cell_type": "markdown",
      "source": [
        "# Pre Registration Statement 2.\n",
        "- Hypothesis: The average movie rating has increased over time at a similar rate across all\n",
        "genres.\n",
        "- Why we chose this question: In our EDA, we noticed a strange trend where the average\n",
        "movie ratings increased suddenly at some point in time for four genres we explored and it\n",
        "seemed to do so at similar rates for each one of them. So, we wrote this hypothesis to find\n",
        "out whether that is actually the case for different genres of interest.\n",
        "- Proposed Analysis:\n",
        "Conduct a linear regression where movie start year is the\n",
        "independent variable and the movie rating is the dependent variable. Separate models will be run for each genre. We will test whether the coefficient for movie start year (β) is positive for all the genres or there are different cases.\n"
      ],
      "metadata": {
        "id": "T2dbFjFJL1Jw"
      }
    },
    {
      "cell_type": "markdown",
      "source": [
        "# Data analysis"
      ],
      "metadata": {
        "id": "vWf0SUmx-BzY"
      }
    },
    {
      "cell_type": "markdown",
      "source": [
        "Carry out the analysis for each preregistration statement.\n",
        "Interpret analyses appropriately (e.g., regressions should be interpreted using the\n",
        "summarizing, predicting, and outliers/oddities framework from class)"
      ],
      "metadata": {
        "id": "9kA1bml99_-q"
      }
    },
    {
      "cell_type": "code",
      "source": [
        "import pandas as pd\n",
        "import numpy as np\n",
        "import matplotlib.pyplot as plt\n",
        "import seaborn as sns\n",
        "import scipy.stats as stats\n",
        "import statsmodels.api as sm\n",
        "\n",
        "cleaned_movies_df = pd.read_csv('cleaned_data.csv')\n",
        "joined_df = pd.read_csv('joined_data.csv')"
      ],
      "metadata": {
        "id": "9oxrFRbAIShB"
      },
      "execution_count": null,
      "outputs": []
    },
    {
      "cell_type": "markdown",
      "source": [
        "1. Correlation Analysis"
      ],
      "metadata": {
        "id": "G5dqsxQeEqHF"
      }
    },
    {
      "cell_type": "code",
      "source": [
        "correlation_matrix = cleaned_df[['runtimeMinutes', 'titleLength', 'averageRating']].corr()\n",
        "print(correlation_matrix)\n",
        "\n",
        "sns.heatmap(correlation_matrix, annot=True, cmap=\"coolwarm\")\n",
        "plt.title(\"Correlation Matrix\")\n",
        "plt.show()"
      ],
      "metadata": {
        "id": "bVcdso5zIGfo"
      },
      "execution_count": null,
      "outputs": []
    },
    {
      "cell_type": "markdown",
      "source": [
        "2. Genre Specific"
      ],
      "metadata": {
        "id": "yQkIlgzuIeTc"
      }
    },
    {
      "cell_type": "code",
      "source": [
        "# Split genres into individual rows\n",
        "genres_df = cleaned_df.assign(genre=cleaned_df['genres'].str.split(',')).explode('genre')\n",
        "\n",
        "# Check unique genres\n",
        "print(genres_df['genre'].value_counts())"
      ],
      "metadata": {
        "id": "zWeUf4aaJEaQ"
      },
      "execution_count": null,
      "outputs": []
    },
    {
      "cell_type": "code",
      "source": [
        "sns.boxplot(x='genre', y='runtimeMinutes', data=genres_df)\n",
        "plt.title(\"Runtime Distribution by Genre\")\n",
        "plt.xlabel(\"Genre\")\n",
        "plt.ylabel(\"Runtime (Minutes)\")\n",
        "plt.xticks(rotation=45)\n",
        "plt.show()\n",
        "\n",
        "sns.boxplot(x='genre', y='averageRating', data=genres_df)\n",
        "plt.title(\"Rating Distribution by Genre\")\n",
        "plt.xlabel(\"Genre\")\n",
        "plt.ylabel(\"Average Rating\")\n",
        "plt.xticks(rotation=45)\n",
        "plt.show()\n"
      ],
      "metadata": {
        "id": "xaIAQjTqJHGG"
      },
      "execution_count": null,
      "outputs": []
    },
    {
      "cell_type": "markdown",
      "source": [
        "3. Regression Analysis"
      ],
      "metadata": {
        "id": "W_FgGM1-JKKO"
      }
    },
    {
      "cell_type": "code",
      "source": [
        "# Define a function to run linear regression for a specific genre\n",
        "def run_linear_regression(genre):\n",
        "    subset = genres_df[genres_df['genre'] == genre]\n",
        "    X = subset[['runtimeMinutes']]\n",
        "    y = subset['averageRating']\n",
        "\n",
        "    model = LinearRegression()\n",
        "    model.fit(X, y)\n",
        "\n",
        "    coef = model.coef_[0]\n",
        "    intercept = model.intercept_\n",
        "    print(f\"Linear Regression for {genre}: Coefficient={coef:.4f}, Intercept={intercept:.4f}\")\n",
        "\n",
        "    sns.regplot(x='runtimeMinutes', y='averageRating', data=subset, line_kws={'color': 'red'})\n",
        "    plt.title(f\"Linear Relationship Between Runtime and Rating in {genre}\")\n",
        "    plt.xlabel(\"Runtime (Minutes)\")\n",
        "    plt.ylabel(\"Average Rating\")\n",
        "    plt.show()\n",
        "\n",
        "# Test for drama\n",
        "run_linear_regression('Drama')\n"
      ],
      "metadata": {
        "id": "dnYjGnkPJJcc"
      },
      "execution_count": null,
      "outputs": []
    },
    {
      "cell_type": "code",
      "source": [
        "# Polynomial regression for a genre\n",
        "def run_polynomial_regression(genre, degree=2):\n",
        "    subset = genres_df[genres_df['genre'] == genre]\n",
        "    X = subset[['runtimeMinutes']]\n",
        "    y = subset['averageRating']\n",
        "\n",
        "    poly = PolynomialFeatures(degree)\n",
        "    X_poly = poly.fit_transform(X)\n",
        "\n",
        "    model = LinearRegression()\n",
        "    model.fit(X_poly, y)\n",
        "\n",
        "    print(f\"Polynomial Regression for {genre} (Degree {degree}): Coefficients={model.coef_}, Intercept={model.intercept_}\")\n",
        "\n",
        "    sns.scatterplot(x='runtimeMinutes', y='averageRating', data=subset, alpha=0.6)\n",
        "    x_range = np.linspace(X['runtimeMinutes'].min(), X['runtimeMinutes'].max(), 100).reshape(-1, 1)\n",
        "    y_poly_pred = model.predict(poly.transform(x_range))\n",
        "    plt.plot(x_range, y_poly_pred, color='red')\n",
        "    plt.title(f\"Polynomial Relationship Between Runtime and Rating in {genre}\")\n",
        "    plt.xlabel(\"Runtime (Minutes)\")\n",
        "    plt.ylabel(\"Average Rating\")\n",
        "    plt.show()\n",
        "\n",
        "# Test for drama\n",
        "run_polynomial_regression('Drama', degree=2)\n"
      ],
      "metadata": {
        "id": "1wnJ3h-NJSnE"
      },
      "execution_count": null,
      "outputs": []
    },
    {
      "cell_type": "markdown",
      "source": [
        "4. Combined Analysis of Runtime and Title Length:"
      ],
      "metadata": {
        "id": "ERLc6REDJWhM"
      }
    },
    {
      "cell_type": "code",
      "source": [
        "# Multi-variable regression for drama\n",
        "drama_subset = genres_df[genres_df['genre'] == 'Drama']\n",
        "X = drama_subset[['runtimeMinutes', 'titleLength']]\n",
        "y = drama_subset['averageRating']\n",
        "\n",
        "model = LinearRegression()\n",
        "model.fit(X, y)\n",
        "\n",
        "print(f\"Coefficients: {model.coef_}, Intercept: {model.intercept_}\")\n",
        "\n",
        "# Visualize the effects of both variables\n",
        "sns.scatterplot(x='runtimeMinutes', y='averageRating', data=drama_subset, label='Runtime')\n",
        "sns.scatterplot(x='titleLength', y='averageRating', data=drama_subset, label='Title Length')\n",
        "plt.legend()\n",
        "plt.title(\"Effects of Runtime and Title Length on Rating (Drama)\")\n",
        "plt.show()\n"
      ],
      "metadata": {
        "id": "p89VnfM6JZ46"
      },
      "execution_count": null,
      "outputs": []
    },
    {
      "cell_type": "markdown",
      "source": [
        "# Evaluation of significance"
      ],
      "metadata": {
        "id": "05eqa4yK-GRg"
      }
    },
    {
      "cell_type": "code",
      "source": [],
      "metadata": {
        "id": "XPoJKPpNLAJb"
      },
      "execution_count": null,
      "outputs": []
    },
    {
      "cell_type": "markdown",
      "source": [
        "# Conclusions"
      ],
      "metadata": {
        "id": "ZFwH1txA-GsI"
      }
    },
    {
      "cell_type": "markdown",
      "source": [
        "# Limitations"
      ],
      "metadata": {
        "id": "L2SoCXPe-PlI"
      }
    },
    {
      "cell_type": "markdown",
      "source": [
        "\n",
        "Data Sources:\n",
        "The data observed and recorded might have been influenced by how the data is collected. For IMDb, they collect their data through various sources, including direct input from filmmakers, studios, and users, as well as IMDb's internal data collection processes.\n",
        "\n",
        "Rating Bias:\n",
        "In addition, the data or ratings submitted by users can cause biases, because the information may be incomplete or not reflect the accurate titles. Beside, the demographics of IMDb users are biased among genders, geographics, ages, cultures, and linguistics, so the rating might not reflect the accurate feedback of the audience.\n",
        "\n",
        "Policy Restrictions:\n",
        "Lastly, the data could be influenced by IMDb's editorial policies and the submission guidelines they provide to contributors. Therefore, certain titles may lack sufficient data if contributors fail to adhere to submission guidelines or the policies may prioritize professionally verified information over crowd-sourced data, limiting smaller or independent films.\n",
        "\n"
      ],
      "metadata": {
        "id": "Nu7_eror-XzC"
      }
    },
    {
      "cell_type": "markdown",
      "source": [
        "# Acknowledgements and Bibliography\n",
        "\n",
        "IMDB, \"IMDb Non-Commercial Datasets. title.basics.tsv\", Accessed November 21, 2024. https://developer.imdb.com/non-commercial-datasets/\n",
        "\n",
        "IMDB, \"IMDb Non-Commercial Datasets. title.ratings.tsv\", Accessed November 21, 2024. https://developer.imdb.com/non-commercial-datasets/"
      ],
      "metadata": {
        "id": "Q__Z5XYc-Nx3"
      }
    },
    {
      "cell_type": "code",
      "source": [],
      "metadata": {
        "id": "rVVL_SEs-O0N"
      },
      "execution_count": null,
      "outputs": []
    }
  ]
}